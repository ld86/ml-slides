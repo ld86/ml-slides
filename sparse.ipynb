{
 "cells": [
  {
   "cell_type": "markdown",
   "metadata": {
    "deletable": true,
    "editable": true,
    "slideshow": {
     "slide_type": "slide"
    }
   },
   "source": [
    "# Разреженные признаки и Vowpal Wabbit\n",
    "\n",
    "### 21.03.2017\n",
    "\n",
    "#### Мельник Богдан"
   ]
  },
  {
   "cell_type": "code",
   "execution_count": 2,
   "metadata": {
    "collapsed": false,
    "deletable": true,
    "editable": true,
    "slideshow": {
     "slide_type": "skip"
    }
   },
   "outputs": [
    {
     "name": "stdout",
     "output_type": "stream",
     "text": [
      "Populating the interactive namespace from numpy and matplotlib\n"
     ]
    }
   ],
   "source": [
    "%pylab inline"
   ]
  },
  {
   "cell_type": "code",
   "execution_count": 3,
   "metadata": {
    "collapsed": true,
    "deletable": true,
    "editable": true,
    "slideshow": {
     "slide_type": "skip"
    }
   },
   "outputs": [],
   "source": [
    "warnings.filterwarnings('ignore')"
   ]
  },
  {
   "cell_type": "code",
   "execution_count": 4,
   "metadata": {
    "collapsed": true,
    "deletable": true,
    "editable": true,
    "slideshow": {
     "slide_type": "skip"
    }
   },
   "outputs": [],
   "source": [
    "import matplotlib.pyplot as plt\n",
    "plt.rcParams[\"figure.figsize\"] = (20, 5)"
   ]
  },
  {
   "cell_type": "code",
   "execution_count": 90,
   "metadata": {
    "collapsed": false,
    "deletable": true,
    "editable": true,
    "slideshow": {
     "slide_type": "skip"
    }
   },
   "outputs": [],
   "source": [
    "import pandas as pd\n",
    "import scipy.sparse\n",
    "\n",
    "from IPython.display import Image, display\n",
    "from sklearn.feature_extraction.text import CountVectorizer, TfidfVectorizer, HashingVectorizer\n",
    "from sklearn.model_selection import GridSearchCV, cross_val_predict, cross_val_score, train_test_split, KFold\n",
    "from sklearn.linear_model import LogisticRegression\n",
    "from sklearn.metrics import roc_auc_score, roc_curve, f1_score, make_scorer\n",
    "from sklearn.preprocessing import MultiLabelBinarizer\n",
    "from sklearn.multiclass import OneVsRestClassifier\n",
    "from sklearn.feature_selection import SelectKBest\n",
    "from sklearn.decomposition import TruncatedSVD\n",
    "from sklearn.ensemble import RandomForestClassifier\n",
    "from sklearn.naive_bayes import MultinomialNB"
   ]
  },
  {
   "cell_type": "markdown",
   "metadata": {
    "slideshow": {
     "slide_type": "slide"
    }
   },
   "source": [
    "## Примеры источников разреженных признаков\n",
    "\n",
    "* Результат one-hot-encoding для большого количества категориальных признаков\n",
    "* Тексты и любые последовательности, которые можно интерпретировать как \"bag of words\""
   ]
  },
  {
   "cell_type": "markdown",
   "metadata": {
    "deletable": true,
    "editable": true,
    "slideshow": {
     "slide_type": "slide"
    }
   },
   "source": [
    "## Разреженные матрицы\n",
    "\n",
    "Существует много типов разреженных матриц, каждый из которых предоставляет разные гарантии на операции.\n",
    "\n",
    "* ```scipy.sparse.bsr_matrix```\n",
    "* ```scipy.sparse.coo_matrix```\n",
    "* ```scipy.sparse.csc_matrix```\n",
    "* ```scipy.sparse.csr_matrix```\n",
    "* ```scipy.sparse.dia_matrix```\n",
    "* ```scipy.sparse.dok_matrix```\n",
    "* ```scipy.sparse.lil_matrix```\n",
    "\n",
    "Подробнее про [устройство разреженых матрицы](http://www.netlib.org/utk/people/JackDongarra/etemplates/node372.html)"
   ]
  },
  {
   "cell_type": "markdown",
   "metadata": {
    "slideshow": {
     "slide_type": "subslide"
    }
   },
   "source": [
    "## scipy.sparse.coo_matrix\n",
    "\n",
    "* Используется как хранилище данных\n",
    "* Поддерживает быструю конвертацию в любой формат\n",
    "* Не поддерживает индексацию\n",
    "* Поддерживает ограниченый набор арифметических операций"
   ]
  },
  {
   "cell_type": "code",
   "execution_count": 124,
   "metadata": {
    "collapsed": false
   },
   "outputs": [],
   "source": [
    "coo = scipy.sparse.random(10000, 10000, format='coo')"
   ]
  },
  {
   "cell_type": "code",
   "execution_count": 125,
   "metadata": {
    "collapsed": false
   },
   "outputs": [
    {
     "ename": "TypeError",
     "evalue": "'coo_matrix' object does not support indexing",
     "output_type": "error",
     "traceback": [
      "\u001b[0;31m---------------------------------------------------------------------------\u001b[0m",
      "\u001b[0;31mTypeError\u001b[0m                                 Traceback (most recent call last)",
      "\u001b[0;32m<ipython-input-125-355d36e159e0>\u001b[0m in \u001b[0;36m<module>\u001b[0;34m()\u001b[0m\n\u001b[0;32m----> 1\u001b[0;31m \u001b[0;32mprint\u001b[0m\u001b[0;34m(\u001b[0m\u001b[0mcoo\u001b[0m\u001b[0;34m[\u001b[0m\u001b[0;36m0\u001b[0m\u001b[0;34m]\u001b[0m\u001b[0;34m)\u001b[0m\u001b[0;34m\u001b[0m\u001b[0m\n\u001b[0m",
      "\u001b[0;31mTypeError\u001b[0m: 'coo_matrix' object does not support indexing"
     ]
    }
   ],
   "source": [
    "print(coo[0])"
   ]
  },
  {
   "cell_type": "markdown",
   "metadata": {
    "slideshow": {
     "slide_type": "subslide"
    }
   },
   "source": [
    "## scipy.sparse.csr_matrix\n",
    "\n",
    "* Хранит данные построчно\n",
    "* Быстрое получение значений отдельных строк"
   ]
  },
  {
   "cell_type": "markdown",
   "metadata": {},
   "source": [
    "## scipy.sparse.csc_matrix\n",
    "\n",
    "* Хранит данные поколоночно\n",
    "* Быстрое получение значений отдельных колонок"
   ]
  },
  {
   "cell_type": "code",
   "execution_count": 137,
   "metadata": {
    "collapsed": false
   },
   "outputs": [
    {
     "name": "stdout",
     "output_type": "stream",
     "text": [
      "1 loop, best of 3: 4.44 s per loop\n"
     ]
    }
   ],
   "source": [
    "%%timeit\n",
    "\n",
    "m = scipy.sparse.csr_matrix((10000, 10000))\n",
    "for _ in range(10000):\n",
    "    m[np.random.randint(0, 10000), np.random.randint(0, 10000)] = 1"
   ]
  },
  {
   "cell_type": "markdown",
   "metadata": {
    "slideshow": {
     "slide_type": "subslide"
    }
   },
   "source": [
    "## scipy.sparse.lil_matrix\n",
    "\n",
    "* Отлично подходит для создания разреженных матриц поэлементно\n",
    "* Для последующих матричных операций лучше сконвертировать в ```csr_matrix``` или ```csc_matrix```"
   ]
  },
  {
   "cell_type": "code",
   "execution_count": 138,
   "metadata": {
    "collapsed": false
   },
   "outputs": [
    {
     "name": "stdout",
     "output_type": "stream",
     "text": [
      "10 loops, best of 3: 100 ms per loop\n"
     ]
    }
   ],
   "source": [
    "%%timeit\n",
    "\n",
    "m = scipy.sparse.lil_matrix((10000, 10000))\n",
    "for _ in range(10000):\n",
    "    m[np.random.randint(0, 10000), np.random.randint(0, 10000)] = 1"
   ]
  },
  {
   "cell_type": "markdown",
   "metadata": {
    "deletable": true,
    "editable": true,
    "slideshow": {
     "slide_type": "subslide"
    }
   },
   "source": [
    "## Работа с разреженными данными\n",
    "\n",
    "Библиотека ```scipy.sparse``` содержит методы, позволяющие работать с разреженными матрицами.\n",
    "\n",
    "Например, специальные ```hstack``` и ```vstack``` для конкатенации.\n",
    "\n",
    "Подробнее про операции с разрежеными матрицами на сайте [scipy](https://docs.scipy.org/doc/scipy/reference/sparse.html)."
   ]
  },
  {
   "cell_type": "markdown",
   "metadata": {
    "deletable": true,
    "editable": true,
    "slideshow": {
     "slide_type": "subslide"
    }
   },
   "source": [
    "### Что можно использовать?\n",
    "\n",
    "Подходят почти все модели\n",
    "* LogisticRegression\n",
    "* LinearSVC\n",
    "* MultinomialNB\n",
    "* RandomForestClassifier\n",
    "* KNeighborsClassifier\n",
    "\n",
    "Не подходят\n",
    "* GradientBoostingClassifier"
   ]
  },
  {
   "cell_type": "markdown",
   "metadata": {
    "deletable": true,
    "editable": true,
    "slideshow": {
     "slide_type": "slide"
    }
   },
   "source": [
    "## Пример с текстами\n",
    "\n",
    "* Датасет StackOverflow\n",
    "    * Случайная выборка из 10 тысяч вопросов\n",
    "    * Только 20 популярных тегов\n",
    "* По тексту нужно определить все теги для каждого вопроса"
   ]
  },
  {
   "cell_type": "code",
   "execution_count": 7,
   "metadata": {
    "collapsed": false,
    "deletable": true,
    "editable": true
   },
   "outputs": [
    {
     "name": "stdout",
     "output_type": "stream",
     "text": [
      "(10000, 2)\n"
     ]
    },
    {
     "data": {
      "text/html": [
       "<div>\n",
       "<table border=\"1\" class=\"dataframe\">\n",
       "  <thead>\n",
       "    <tr style=\"text-align: right;\">\n",
       "      <th></th>\n",
       "      <th>text</th>\n",
       "      <th>tags</th>\n",
       "    </tr>\n",
       "  </thead>\n",
       "  <tbody>\n",
       "    <tr>\n",
       "      <th>0</th>\n",
       "      <td>i want to use a track bar to change a form s ...</td>\n",
       "      <td>c# winforms type-conversion decimal opacity</td>\n",
       "    </tr>\n",
       "    <tr>\n",
       "      <th>1</th>\n",
       "      <td>i have an absolutely positioned div containin...</td>\n",
       "      <td>html css css3 internet-explorer-7</td>\n",
       "    </tr>\n",
       "    <tr>\n",
       "      <th>2</th>\n",
       "      <td>given a datetime representing a person s birt...</td>\n",
       "      <td>c# .net datetime</td>\n",
       "    </tr>\n",
       "    <tr>\n",
       "      <th>3</th>\n",
       "      <td>given a specific datetime value how do i disp...</td>\n",
       "      <td>c# datetime datediff relative-time-span</td>\n",
       "    </tr>\n",
       "  </tbody>\n",
       "</table>\n",
       "</div>"
      ],
      "text/plain": [
       "                                                text  \\\n",
       "0   i want to use a track bar to change a form s ...   \n",
       "1   i have an absolutely positioned div containin...   \n",
       "2   given a datetime representing a person s birt...   \n",
       "3   given a specific datetime value how do i disp...   \n",
       "\n",
       "                                          tags  \n",
       "0  c# winforms type-conversion decimal opacity  \n",
       "1            html css css3 internet-explorer-7  \n",
       "2                             c# .net datetime  \n",
       "3      c# datetime datediff relative-time-span  "
      ]
     },
     "execution_count": 7,
     "metadata": {},
     "output_type": "execute_result"
    }
   ],
   "source": [
    "texts = pd.read_csv('multi_tag.10k.tsv', header=None, sep='\\t')\n",
    "texts.columns = ['text', 'tags']\n",
    "print(texts.shape)\n",
    "texts.head(4)"
   ]
  },
  {
   "cell_type": "markdown",
   "metadata": {
    "deletable": true,
    "editable": true,
    "slideshow": {
     "slide_type": "subslide"
    }
   },
   "source": [
    "## Оценка качества\n",
    "\n",
    "* Будем использовать обобщение $F1$-меры на несколько классов\n",
    "\n",
    "\n",
    "$$\n",
    "F1 = 2\\frac{p * r}{p + r},\\ \\ \\mathrm{где}\\ \\ p = \\frac{tp}{tp+fp},\\ \\  r = \\frac{tp}{tp+fn}\n",
    "$$\n",
    "\n",
    "\n",
    "$tp$, $fp$ и $fp$ считаются по всем тегам одного объекта"
   ]
  },
  {
   "cell_type": "code",
   "execution_count": 8,
   "metadata": {
    "collapsed": false,
    "deletable": true,
    "editable": true
   },
   "outputs": [
    {
     "name": "stdout",
     "output_type": "stream",
     "text": [
      "0.5\n",
      "0.5\n"
     ]
    }
   ],
   "source": [
    "y, y_hat = np.array([[1, 1, 0, 0]]), np.array([[1, 0, 1, 0]])\n",
    "tp, fp, fn = 1., 1., 1.\n",
    "p, r = tp / (tp + fp), tp / (tp + fn)\n",
    "f1 = 2 * p * r / (p + r)\n",
    "\n",
    "print(f1)\n",
    "print(f1_score(y, y_hat, average='samples'))"
   ]
  },
  {
   "cell_type": "markdown",
   "metadata": {
    "deletable": true,
    "editable": true,
    "slideshow": {
     "slide_type": "slide"
    }
   },
   "source": [
    "## Bag of words\n",
    "\n",
    "Построим модель BOW с помощью ```CountVectorizer```\n",
    "* Для каждого отдельного слова будет создана колонка\n",
    "* В пересечении строки и колонки будет стоять 1, если это слово присутствует в документе\n",
    "* ```CountVectorizer``` возвращает ```scipy.sparse.csr.csr_matrix```\n",
    "* Если рассматривать вхождение каждого отдельного слова как признак, то мы получим $35247$ признаков"
   ]
  },
  {
   "cell_type": "code",
   "execution_count": 80,
   "metadata": {
    "collapsed": false,
    "deletable": true,
    "editable": true
   },
   "outputs": [
    {
     "name": "stdout",
     "output_type": "stream",
     "text": [
      "(10000, 35247)\n",
      "<class 'scipy.sparse.csr.csr_matrix'>\n"
     ]
    }
   ],
   "source": [
    "vectorizer = CountVectorizer(binary=True)\n",
    "bow = vectorizer.fit_transform(texts.text)\n",
    "print(bow.shape)\n",
    "print(type(bow))"
   ]
  },
  {
   "cell_type": "markdown",
   "metadata": {
    "deletable": true,
    "editable": true,
    "slideshow": {
     "slide_type": "skip"
    }
   },
   "source": [
    "## Отбор тегов\n",
    "\n",
    "* Оставим только самые популярные 20 тегов для предсказания\n",
    "* Если у вопроса после такой фильтрации не осталось тегов, то присвоим ему отдельный тег __other__"
   ]
  },
  {
   "cell_type": "code",
   "execution_count": 13,
   "metadata": {
    "collapsed": false,
    "deletable": true,
    "editable": true,
    "slideshow": {
     "slide_type": "skip"
    }
   },
   "outputs": [
    {
     "data": {
      "text/plain": [
       "[(1198, 'c#'),\n",
       " (1090, '.net'),\n",
       " (696, 'java'),\n",
       " (610, 'asp.net'),\n",
       " (472, 'sql-server'),\n",
       " (462, 'c++'),\n",
       " (434, 'javascript'),\n",
       " (372, 'sql'),\n",
       " (363, 'php'),\n",
       " (349, 'windows')]"
      ]
     },
     "execution_count": 13,
     "metadata": {},
     "output_type": "execute_result"
    }
   ],
   "source": [
    "tags = texts.tags.apply(lambda x: x.split())\n",
    "all_tags = reduce(lambda s, x: s + x, tags, [])\n",
    "values, count = np.unique(all_tags, return_counts=True)\n",
    "\n",
    "top_tags = sorted(zip(count, values), reverse=True)[:20]\n",
    "top_tags[:10]"
   ]
  },
  {
   "cell_type": "code",
   "execution_count": 14,
   "metadata": {
    "collapsed": true,
    "deletable": true,
    "editable": true,
    "slideshow": {
     "slide_type": "skip"
    }
   },
   "outputs": [],
   "source": [
    "def filter_tags(tags):\n",
    "    intersection = list(good_tags.intersection(tags))\n",
    "    if intersection:\n",
    "        return intersection\n",
    "    return ['other']\n",
    "\n",
    "good_tags = set(map(lambda x: x[1], top_tags))"
   ]
  },
  {
   "cell_type": "markdown",
   "metadata": {
    "deletable": true,
    "editable": true,
    "slideshow": {
     "slide_type": "subslide"
    }
   },
   "source": [
    "Преобразуем списки тегов в матрицу, которая будет содержать индикаторы наличия тега у вопроса.\n",
    "\n",
    "Для одного вопроса может быть несколько единиц."
   ]
  },
  {
   "cell_type": "code",
   "execution_count": 19,
   "metadata": {
    "collapsed": false,
    "deletable": true,
    "editable": true
   },
   "outputs": [
    {
     "name": "stdout",
     "output_type": "stream",
     "text": [
      "(10000, 21)\n",
      "[[0 0 0 1 0 0 0 0 0 0 0 0 0 0 0 0 0 0 0 0 0]\n",
      " [0 0 0 0 0 0 1 0 0 0 0 0 0 0 0 0 0 0 0 0 0]\n",
      " [1 0 0 1 0 0 0 0 0 0 0 0 0 0 0 0 0 0 0 0 0]\n",
      " [0 0 0 1 0 0 0 0 0 0 0 0 0 0 0 0 0 0 0 0 0]\n",
      " [0 0 0 0 0 0 1 0 1 0 0 0 0 0 0 0 0 0 0 0 0]]\n"
     ]
    }
   ],
   "source": [
    "binarizer = MultiLabelBinarizer()\n",
    "y = binarizer.fit_transform(texts.tags.apply(lambda x: filter_tags(x.split())))\n",
    "print(y.shape)\n",
    "print(y[:5, :])"
   ]
  },
  {
   "cell_type": "markdown",
   "metadata": {
    "deletable": true,
    "editable": true,
    "slideshow": {
     "slide_type": "subslide"
    }
   },
   "source": [
    "## Выбор модели и оценка\n",
    "\n",
    "* Будет использовать ```LogisticRegression``` вместе с ```OneVsRestClassifier``` для получения предсказаний"
   ]
  },
  {
   "cell_type": "code",
   "execution_count": 204,
   "metadata": {
    "collapsed": false,
    "deletable": true,
    "editable": true
   },
   "outputs": [],
   "source": [
    "params = {'estimator__C': np.logspace(-5, 5, 11)}\n",
    "\n",
    "clf = OneVsRestClassifier(LogisticRegression())\n",
    "cv = GridSearchCV(clf, params, n_jobs=-1, scoring=make_scorer(f1_score, average='samples'), cv=5)\n",
    "cv.fit(bow, y);"
   ]
  },
  {
   "cell_type": "markdown",
   "metadata": {
    "deletable": true,
    "editable": true,
    "slideshow": {
     "slide_type": "subslide"
    }
   },
   "source": [
    "## Выбор модели и оценка\n",
    "\n",
    "* $F1 = 0.4047323$\n",
    "* Как можно улучшить качество модели?"
   ]
  },
  {
   "cell_type": "code",
   "execution_count": 205,
   "metadata": {
    "collapsed": false,
    "deletable": true,
    "editable": true,
    "slideshow": {
     "slide_type": "-"
    }
   },
   "outputs": [
    {
     "data": {
      "text/html": [
       "<div>\n",
       "<table border=\"1\" class=\"dataframe\">\n",
       "  <thead>\n",
       "    <tr style=\"text-align: right;\">\n",
       "      <th></th>\n",
       "      <th>mean_test_score</th>\n",
       "      <th>params</th>\n",
       "    </tr>\n",
       "  </thead>\n",
       "  <tbody>\n",
       "    <tr>\n",
       "      <th>10</th>\n",
       "      <td>0.404732</td>\n",
       "      <td>{u'estimator__C': 100000.0}</td>\n",
       "    </tr>\n",
       "    <tr>\n",
       "      <th>9</th>\n",
       "      <td>0.404212</td>\n",
       "      <td>{u'estimator__C': 10000.0}</td>\n",
       "    </tr>\n",
       "    <tr>\n",
       "      <th>8</th>\n",
       "      <td>0.404140</td>\n",
       "      <td>{u'estimator__C': 1000.0}</td>\n",
       "    </tr>\n",
       "    <tr>\n",
       "      <th>7</th>\n",
       "      <td>0.403066</td>\n",
       "      <td>{u'estimator__C': 100.0}</td>\n",
       "    </tr>\n",
       "    <tr>\n",
       "      <th>6</th>\n",
       "      <td>0.402630</td>\n",
       "      <td>{u'estimator__C': 10.0}</td>\n",
       "    </tr>\n",
       "    <tr>\n",
       "      <th>5</th>\n",
       "      <td>0.390346</td>\n",
       "      <td>{u'estimator__C': 1.0}</td>\n",
       "    </tr>\n",
       "    <tr>\n",
       "      <th>4</th>\n",
       "      <td>0.319707</td>\n",
       "      <td>{u'estimator__C': 0.1}</td>\n",
       "    </tr>\n",
       "    <tr>\n",
       "      <th>3</th>\n",
       "      <td>0.092920</td>\n",
       "      <td>{u'estimator__C': 0.01}</td>\n",
       "    </tr>\n",
       "    <tr>\n",
       "      <th>2</th>\n",
       "      <td>0.000300</td>\n",
       "      <td>{u'estimator__C': 0.001}</td>\n",
       "    </tr>\n",
       "    <tr>\n",
       "      <th>0</th>\n",
       "      <td>0.000000</td>\n",
       "      <td>{u'estimator__C': 1e-05}</td>\n",
       "    </tr>\n",
       "    <tr>\n",
       "      <th>1</th>\n",
       "      <td>0.000000</td>\n",
       "      <td>{u'estimator__C': 0.0001}</td>\n",
       "    </tr>\n",
       "  </tbody>\n",
       "</table>\n",
       "</div>"
      ],
      "text/plain": [
       "    mean_test_score                       params\n",
       "10         0.404732  {u'estimator__C': 100000.0}\n",
       "9          0.404212   {u'estimator__C': 10000.0}\n",
       "8          0.404140    {u'estimator__C': 1000.0}\n",
       "7          0.403066     {u'estimator__C': 100.0}\n",
       "6          0.402630      {u'estimator__C': 10.0}\n",
       "5          0.390346       {u'estimator__C': 1.0}\n",
       "4          0.319707       {u'estimator__C': 0.1}\n",
       "3          0.092920      {u'estimator__C': 0.01}\n",
       "2          0.000300     {u'estimator__C': 0.001}\n",
       "0          0.000000     {u'estimator__C': 1e-05}\n",
       "1          0.000000    {u'estimator__C': 0.0001}"
      ]
     },
     "execution_count": 205,
     "metadata": {},
     "output_type": "execute_result"
    }
   ],
   "source": [
    "pd.DataFrame(cv.cv_results_)[['mean_test_score', 'params']].sort_values('mean_test_score', ascending=False)"
   ]
  },
  {
   "cell_type": "markdown",
   "metadata": {
    "deletable": true,
    "editable": true,
    "slideshow": {
     "slide_type": "slide"
    }
   },
   "source": [
    "## Tf-Idf\n",
    "\n",
    "* Вместо бинарного значения, для каждого слова считать его вес в документе.\n",
    "* Обычно работает лучше, чем ```CountVectorizer```\n",
    "* Реализовано в ```TfidfVectorizer```\n",
    "\n",
    "Значение Tf-Idf для каждого пары документ-слово состоит из двух компонент:\n",
    "* Term frequency — логарифм встречаемости слова в документе\n",
    "$$tf(t, d) = \\log n_{t,d}$$\n",
    "\n",
    "* Inverse Document frequency — логарифм обратной доли документов в которых встретилось данное слово\n",
    "$$idf(t, D) = \\log \\frac{ \\mid D \\mid}{\\mid \\{ d_i \\in D \\mid t \\in d_i \\} \\mid}$$\n",
    "\n",
    "* Tf-Idf — кобминация tf и idf\n",
    "$$ TfIdf(t, d, D) = tf(t, d) * idf(t, D)$$"
   ]
  },
  {
   "cell_type": "code",
   "execution_count": 81,
   "metadata": {
    "collapsed": false,
    "deletable": true,
    "editable": true,
    "slideshow": {
     "slide_type": "skip"
    }
   },
   "outputs": [
    {
     "name": "stdout",
     "output_type": "stream",
     "text": [
      "(10000, 35247)\n",
      "<class 'scipy.sparse.csr.csr_matrix'>\n"
     ]
    }
   ],
   "source": [
    "vectorizer = TfidfVectorizer()\n",
    "tf_idf = vectorizer.fit_transform(texts.text)\n",
    "print(tf_idf.shape)\n",
    "print(type(tf_idf))"
   ]
  },
  {
   "cell_type": "markdown",
   "metadata": {
    "deletable": true,
    "editable": true,
    "slideshow": {
     "slide_type": "skip"
    }
   },
   "source": [
    "## Выбор модели и оценка\n",
    "\n",
    "Ищем лучшие параметры"
   ]
  },
  {
   "cell_type": "code",
   "execution_count": 254,
   "metadata": {
    "collapsed": true,
    "deletable": true,
    "editable": true,
    "slideshow": {
     "slide_type": "skip"
    }
   },
   "outputs": [],
   "source": [
    "params = {'estimator__C': np.logspace(-5, 5, 11)}\n",
    "\n",
    "clf = OneVsRestClassifier(LogisticRegression())\n",
    "cv = GridSearchCV(clf, params, n_jobs=-1, scoring=make_scorer(f1_score, average='samples'), cv=5)\n",
    "cv.fit(tf_idf, y);"
   ]
  },
  {
   "cell_type": "markdown",
   "metadata": {
    "deletable": true,
    "editable": true,
    "slideshow": {
     "slide_type": "subslide"
    }
   },
   "source": [
    "## Выбор модели и оценка\n",
    "\n",
    "* $F1=0.382173$\n",
    "* Получилось хуже, чем BOW.\n",
    "* Но почему?"
   ]
  },
  {
   "cell_type": "code",
   "execution_count": 255,
   "metadata": {
    "collapsed": false,
    "deletable": true,
    "editable": true,
    "slideshow": {
     "slide_type": "-"
    }
   },
   "outputs": [
    {
     "data": {
      "text/html": [
       "<div>\n",
       "<table border=\"1\" class=\"dataframe\">\n",
       "  <thead>\n",
       "    <tr style=\"text-align: right;\">\n",
       "      <th></th>\n",
       "      <th>mean_test_score</th>\n",
       "      <th>params</th>\n",
       "    </tr>\n",
       "  </thead>\n",
       "  <tbody>\n",
       "    <tr>\n",
       "      <th>10</th>\n",
       "      <td>0.382173</td>\n",
       "      <td>{u'estimator__C': 100000.0}</td>\n",
       "    </tr>\n",
       "    <tr>\n",
       "      <th>9</th>\n",
       "      <td>0.380033</td>\n",
       "      <td>{u'estimator__C': 10000.0}</td>\n",
       "    </tr>\n",
       "    <tr>\n",
       "      <th>8</th>\n",
       "      <td>0.376427</td>\n",
       "      <td>{u'estimator__C': 1000.0}</td>\n",
       "    </tr>\n",
       "    <tr>\n",
       "      <th>7</th>\n",
       "      <td>0.364680</td>\n",
       "      <td>{u'estimator__C': 100.0}</td>\n",
       "    </tr>\n",
       "    <tr>\n",
       "      <th>6</th>\n",
       "      <td>0.334247</td>\n",
       "      <td>{u'estimator__C': 10.0}</td>\n",
       "    </tr>\n",
       "    <tr>\n",
       "      <th>5</th>\n",
       "      <td>0.182323</td>\n",
       "      <td>{u'estimator__C': 1.0}</td>\n",
       "    </tr>\n",
       "    <tr>\n",
       "      <th>4</th>\n",
       "      <td>0.000700</td>\n",
       "      <td>{u'estimator__C': 0.1}</td>\n",
       "    </tr>\n",
       "    <tr>\n",
       "      <th>0</th>\n",
       "      <td>0.000000</td>\n",
       "      <td>{u'estimator__C': 1e-05}</td>\n",
       "    </tr>\n",
       "    <tr>\n",
       "      <th>1</th>\n",
       "      <td>0.000000</td>\n",
       "      <td>{u'estimator__C': 0.0001}</td>\n",
       "    </tr>\n",
       "    <tr>\n",
       "      <th>2</th>\n",
       "      <td>0.000000</td>\n",
       "      <td>{u'estimator__C': 0.001}</td>\n",
       "    </tr>\n",
       "    <tr>\n",
       "      <th>3</th>\n",
       "      <td>0.000000</td>\n",
       "      <td>{u'estimator__C': 0.01}</td>\n",
       "    </tr>\n",
       "  </tbody>\n",
       "</table>\n",
       "</div>"
      ],
      "text/plain": [
       "    mean_test_score                       params\n",
       "10         0.382173  {u'estimator__C': 100000.0}\n",
       "9          0.380033   {u'estimator__C': 10000.0}\n",
       "8          0.376427    {u'estimator__C': 1000.0}\n",
       "7          0.364680     {u'estimator__C': 100.0}\n",
       "6          0.334247      {u'estimator__C': 10.0}\n",
       "5          0.182323       {u'estimator__C': 1.0}\n",
       "4          0.000700       {u'estimator__C': 0.1}\n",
       "0          0.000000     {u'estimator__C': 1e-05}\n",
       "1          0.000000    {u'estimator__C': 0.0001}\n",
       "2          0.000000     {u'estimator__C': 0.001}\n",
       "3          0.000000      {u'estimator__C': 0.01}"
      ]
     },
     "execution_count": 255,
     "metadata": {},
     "output_type": "execute_result"
    }
   ],
   "source": [
    "pd.DataFrame(cv.cv_results_)[['mean_test_score', 'params']].sort_values('mean_test_score', ascending=False)"
   ]
  },
  {
   "cell_type": "markdown",
   "metadata": {
    "deletable": true,
    "editable": true,
    "slideshow": {
     "slide_type": "subslide"
    }
   },
   "source": [
    "## Выбор порога\n",
    "\n",
    "* При вызове ```predict``` возвращается 1, если вероятность принадлежности к классу больше $0.5$\n",
    "* Можно выбирать порог самому через кросс-валидацию"
   ]
  },
  {
   "cell_type": "code",
   "execution_count": 82,
   "metadata": {
    "collapsed": false,
    "deletable": true,
    "editable": true,
    "slideshow": {
     "slide_type": "-"
    }
   },
   "outputs": [
    {
     "name": "stdout",
     "output_type": "stream",
     "text": [
      "CPU times: user 15.4 s, sys: 109 ms, total: 15.5 s\n",
      "Wall time: 15.6 s\n",
      "CPU times: user 10.9 s, sys: 55.4 ms, total: 11 s\n",
      "Wall time: 11 s\n"
     ]
    }
   ],
   "source": [
    "clf = OneVsRestClassifier(LogisticRegression(C=100000))\n",
    "%time y_hat_bow = cross_val_predict(clf, bow, y, method='predict_proba')\n",
    "%time y_hat_tf_idf = cross_val_predict(clf, tf_idf, y, method='predict_proba')"
   ]
  },
  {
   "cell_type": "markdown",
   "metadata": {
    "deletable": true,
    "editable": true
   },
   "source": [
    "Функция, которая в зависимости от порога ставит тег"
   ]
  },
  {
   "cell_type": "code",
   "execution_count": 44,
   "metadata": {
    "collapsed": true,
    "deletable": true,
    "editable": true
   },
   "outputs": [],
   "source": [
    "def get_score(alpha, y, y_hat):\n",
    "    return f1_score(y, (y_hat > alpha).astype('int'), average='samples')"
   ]
  },
  {
   "cell_type": "markdown",
   "metadata": {
    "deletable": true,
    "editable": true,
    "slideshow": {
     "slide_type": "subslide"
    }
   },
   "source": [
    "## Выбор порога для BOW\n",
    "\n",
    "* Качество с порогом по умолчанию — $F1=0.404732$\n",
    "* Качество с подобранным порогом — $F1=0.454356$"
   ]
  },
  {
   "cell_type": "code",
   "execution_count": 88,
   "metadata": {
    "collapsed": false,
    "deletable": true,
    "editable": true,
    "slideshow": {
     "slide_type": "-"
    }
   },
   "outputs": [
    {
     "name": "stdout",
     "output_type": "stream",
     "text": [
      "0.454356904762\n",
      "0.00535353535354\n"
     ]
    },
    {
     "data": {
      "image/png": "[encoded data removed]",
      "text/plain": [
       "<matplotlib.figure.Figure at 0x110ea4bd0>"
      ]
     },
     "metadata": {},
     "output_type": "display_data"
    }
   ],
   "source": [
    "alphas = np.linspace(0.0, 0.01, 100)\n",
    "scores = [get_score(alpha, y, y_hat_bow) for alpha in alphas]\n",
    "\n",
    "plot(alphas, scores);\n",
    "scatter(alphas[np.argmax(scores)], np.max(scores));\n",
    "ylabel('F1-score')\n",
    "xlabel('alpha')\n",
    "\n",
    "\n",
    "print(np.max(scores))\n",
    "print(alphas[np.argmax(scores)])"
   ]
  },
  {
   "cell_type": "markdown",
   "metadata": {
    "deletable": true,
    "editable": true,
    "slideshow": {
     "slide_type": "subslide"
    }
   },
   "source": [
    "## Выбор порога для Tf-Idf\n",
    "\n",
    "* Качество с порогом по умолчанию — $F1=0.382173$\n",
    "* Качество с подобранным порогом — $F1=0.493972$"
   ]
  },
  {
   "cell_type": "code",
   "execution_count": 58,
   "metadata": {
    "collapsed": false,
    "deletable": true,
    "editable": true,
    "slideshow": {
     "slide_type": "-"
    }
   },
   "outputs": [
    {
     "name": "stdout",
     "output_type": "stream",
     "text": [
      "0.493972857143\n",
      "0.00191919191919\n"
     ]
    },
    {
     "data": {
      "image/png": "[encoded data removed]",
      "text/plain": [
       "<matplotlib.figure.Figure at 0x1034ca990>"
      ]
     },
     "metadata": {},
     "output_type": "display_data"
    }
   ],
   "source": [
    "alphas = np.linspace(0.0, 0.01, 100)\n",
    "scores = [get_score(alpha, y, y_hat_tf_idf) for alpha in alphas]\n",
    "\n",
    "plot(alphas, scores);\n",
    "scatter(alphas[np.argmax(scores)], np.max(scores));\n",
    "ylabel('F1-score')\n",
    "xlabel('alpha')\n",
    "\n",
    "print(np.max(scores))\n",
    "print(alphas[np.argmax(scores)])"
   ]
  },
  {
   "cell_type": "markdown",
   "metadata": {
    "slideshow": {
     "slide_type": "subslide"
    }
   },
   "source": [
    "## BM25\n",
    "\n",
    "Метод вычисления весов ```Okapi BM25``` развивает идею Tf-Idf, учитывая длину документов в $tf(t, d)$.\n",
    "\n",
    "$$tf(t, d) = \\frac{(K_1 + 1) * n_{t,d}}{k_1 * (1 - b + b * \\frac{L_d}{L_{ave}}) + n_{t,d}}$$\n",
    "\n",
    "где\n",
    "* $L_{ave}$ — средняя длина документа\n",
    "* $1.2 \\leqslant k \\leqslant 2$\n",
    "* $b = 0.75$"
   ]
  },
  {
   "cell_type": "markdown",
   "metadata": {
    "deletable": true,
    "editable": true,
    "slideshow": {
     "slide_type": "slide"
    }
   },
   "source": [
    "## N-граммы\n",
    "\n",
    "* При увеличении N количество признаков стремительно растёт\n",
    "* Даже для 10 тысяч объектов валидация и подбор гиперпараметров существенно замедляются"
   ]
  },
  {
   "cell_type": "code",
   "execution_count": 66,
   "metadata": {
    "collapsed": false,
    "deletable": true,
    "editable": true
   },
   "outputs": [
    {
     "name": "stdout",
     "output_type": "stream",
     "text": [
      "(10000, 1132373)\n"
     ]
    }
   ],
   "source": [
    "vectorizer = CountVectorizer(binary=True, ngram_range=(1, 3))\n",
    "bow = vectorizer.fit_transform(texts.text)\n",
    "print(bow.shape)"
   ]
  },
  {
   "cell_type": "markdown",
   "metadata": {
    "slideshow": {
     "slide_type": "-"
    }
   },
   "source": [
    "Чем больше признаков, тем больше мы будем тратить времени на оценку и подбор гиперпараметров."
   ]
  },
  {
   "cell_type": "code",
   "execution_count": 68,
   "metadata": {
    "collapsed": false,
    "slideshow": {
     "slide_type": "-"
    }
   },
   "outputs": [
    {
     "name": "stdout",
     "output_type": "stream",
     "text": [
      "CPU times: user 1min 58s, sys: 4.28 s, total: 2min 3s\n",
      "Wall time: 2min 4s\n"
     ]
    }
   ],
   "source": [
    "%time y_hat_bow = cross_val_predict(clf, bow, y, method='predict_proba')"
   ]
  },
  {
   "cell_type": "markdown",
   "metadata": {
    "slideshow": {
     "slide_type": "subslide"
    }
   },
   "source": [
    "## Оценка N-грамм\n",
    "\n",
    "* С $N \\in \\{1, \\dots, 3\\}$ и $1132373$ признаков получилось $F1 = 0.5275$\n",
    "* ```cross_val_predict``` занял ```2min 4s```"
   ]
  },
  {
   "cell_type": "code",
   "execution_count": 70,
   "metadata": {
    "collapsed": false
   },
   "outputs": [
    {
     "name": "stdout",
     "output_type": "stream",
     "text": [
      "0.527566904762\n",
      "0.00131313131313\n"
     ]
    },
    {
     "data": {
      "image/png": "[encoded data removed]",
      "text/plain": [
       "<matplotlib.figure.Figure at 0x130cbe3d0>"
      ]
     },
     "metadata": {},
     "output_type": "display_data"
    }
   ],
   "source": [
    "alphas = np.linspace(0.0, 0.01, 100)\n",
    "scores = [get_score(alpha, y, y_hat_bow) for alpha in alphas]\n",
    "\n",
    "plot(alphas, scores);\n",
    "scatter(alphas[np.argmax(scores)], np.max(scores));\n",
    "grid()\n",
    "ylabel('F1-score')\n",
    "xlabel('alpha')\n",
    "\n",
    "print(np.max(scores))\n",
    "print(alphas[np.argmax(scores)])"
   ]
  },
  {
   "cell_type": "markdown",
   "metadata": {
    "deletable": true,
    "editable": true,
    "slideshow": {
     "slide_type": "subslide"
    }
   },
   "source": [
    "## Hashing Trick\n",
    "\n",
    "Вместо того, чтобы хранить каждый вариант N-граммы отдельно, мы будем получать индекс столбца с признаком, хешируя содержимое.\n",
    "\n",
    "Позволяет задавать произвольное количество столбцов и контролировать максимальное количество признаков соответственно."
   ]
  },
  {
   "cell_type": "code",
   "execution_count": 73,
   "metadata": {
    "collapsed": false,
    "deletable": true,
    "editable": true
   },
   "outputs": [
    {
     "name": "stdout",
     "output_type": "stream",
     "text": [
      "(10000, 100000)\n",
      "<class 'scipy.sparse.csr.csr_matrix'>\n"
     ]
    }
   ],
   "source": [
    "vectorizer = HashingVectorizer(binary=True, ngram_range=(1, 3), n_features=100000)\n",
    "bow = vectorizer.fit_transform(texts.text)\n",
    "print(bow.shape)\n",
    "print(type(bow))"
   ]
  },
  {
   "cell_type": "code",
   "execution_count": 280,
   "metadata": {
    "collapsed": true,
    "deletable": true,
    "editable": true,
    "slideshow": {
     "slide_type": "skip"
    }
   },
   "outputs": [],
   "source": [
    "params = {'estimator__C': np.logspace(-5, 5, 11)}\n",
    "\n",
    "clf = OneVsRestClassifier(LogisticRegression())\n",
    "cv = GridSearchCV(clf, params, n_jobs=-1, scoring=make_scorer(f1_score, average='samples'), cv=5)\n",
    "cv.fit(bow, y);"
   ]
  },
  {
   "cell_type": "code",
   "execution_count": 281,
   "metadata": {
    "collapsed": false,
    "deletable": true,
    "editable": true,
    "slideshow": {
     "slide_type": "skip"
    }
   },
   "outputs": [
    {
     "data": {
      "text/html": [
       "<div>\n",
       "<table border=\"1\" class=\"dataframe\">\n",
       "  <thead>\n",
       "    <tr style=\"text-align: right;\">\n",
       "      <th></th>\n",
       "      <th>mean_test_score</th>\n",
       "      <th>params</th>\n",
       "    </tr>\n",
       "  </thead>\n",
       "  <tbody>\n",
       "    <tr>\n",
       "      <th>10</th>\n",
       "      <td>0.280800</td>\n",
       "      <td>{u'estimator__C': 100000.0}</td>\n",
       "    </tr>\n",
       "    <tr>\n",
       "      <th>9</th>\n",
       "      <td>0.275890</td>\n",
       "      <td>{u'estimator__C': 10000.0}</td>\n",
       "    </tr>\n",
       "    <tr>\n",
       "      <th>8</th>\n",
       "      <td>0.265307</td>\n",
       "      <td>{u'estimator__C': 1000.0}</td>\n",
       "    </tr>\n",
       "    <tr>\n",
       "      <th>7</th>\n",
       "      <td>0.247607</td>\n",
       "      <td>{u'estimator__C': 100.0}</td>\n",
       "    </tr>\n",
       "    <tr>\n",
       "      <th>6</th>\n",
       "      <td>0.200850</td>\n",
       "      <td>{u'estimator__C': 10.0}</td>\n",
       "    </tr>\n",
       "    <tr>\n",
       "      <th>5</th>\n",
       "      <td>0.055257</td>\n",
       "      <td>{u'estimator__C': 1.0}</td>\n",
       "    </tr>\n",
       "    <tr>\n",
       "      <th>0</th>\n",
       "      <td>0.000000</td>\n",
       "      <td>{u'estimator__C': 1e-05}</td>\n",
       "    </tr>\n",
       "    <tr>\n",
       "      <th>1</th>\n",
       "      <td>0.000000</td>\n",
       "      <td>{u'estimator__C': 0.0001}</td>\n",
       "    </tr>\n",
       "    <tr>\n",
       "      <th>2</th>\n",
       "      <td>0.000000</td>\n",
       "      <td>{u'estimator__C': 0.001}</td>\n",
       "    </tr>\n",
       "    <tr>\n",
       "      <th>3</th>\n",
       "      <td>0.000000</td>\n",
       "      <td>{u'estimator__C': 0.01}</td>\n",
       "    </tr>\n",
       "    <tr>\n",
       "      <th>4</th>\n",
       "      <td>0.000000</td>\n",
       "      <td>{u'estimator__C': 0.1}</td>\n",
       "    </tr>\n",
       "  </tbody>\n",
       "</table>\n",
       "</div>"
      ],
      "text/plain": [
       "    mean_test_score                       params\n",
       "10         0.280800  {u'estimator__C': 100000.0}\n",
       "9          0.275890   {u'estimator__C': 10000.0}\n",
       "8          0.265307    {u'estimator__C': 1000.0}\n",
       "7          0.247607     {u'estimator__C': 100.0}\n",
       "6          0.200850      {u'estimator__C': 10.0}\n",
       "5          0.055257       {u'estimator__C': 1.0}\n",
       "0          0.000000     {u'estimator__C': 1e-05}\n",
       "1          0.000000    {u'estimator__C': 0.0001}\n",
       "2          0.000000     {u'estimator__C': 0.001}\n",
       "3          0.000000      {u'estimator__C': 0.01}\n",
       "4          0.000000       {u'estimator__C': 0.1}"
      ]
     },
     "execution_count": 281,
     "metadata": {},
     "output_type": "execute_result"
    }
   ],
   "source": [
    "pd.DataFrame(cv.cv_results_)[['mean_test_score', 'params']].sort_values('mean_test_score', ascending=False)"
   ]
  },
  {
   "cell_type": "code",
   "execution_count": 74,
   "metadata": {
    "collapsed": false,
    "deletable": true,
    "editable": true,
    "slideshow": {
     "slide_type": "-"
    }
   },
   "outputs": [
    {
     "name": "stdout",
     "output_type": "stream",
     "text": [
      "CPU times: user 48.1 s, sys: 508 ms, total: 48.6 s\n",
      "Wall time: 48.8 s\n"
     ]
    }
   ],
   "source": [
    "%time y_hat_bow = cross_val_predict(clf, bow, y, method='predict_proba')"
   ]
  },
  {
   "cell_type": "markdown",
   "metadata": {
    "deletable": true,
    "editable": true,
    "slideshow": {
     "slide_type": "subslide"
    }
   },
   "source": [
    "## Выбор порога для HashingTrick\n",
    "\n",
    "* Сократив количество признаков до $100000$ мы получили $F1=0.525578$\n",
    "* Качество уменьшилось не сильно, но при этом время затраченное на ```cross_val_predict``` сократилось более чем в 2 раза до ```48.8 s```"
   ]
  },
  {
   "cell_type": "code",
   "execution_count": 75,
   "metadata": {
    "collapsed": false,
    "deletable": true,
    "editable": true,
    "slideshow": {
     "slide_type": "-"
    }
   },
   "outputs": [
    {
     "name": "stdout",
     "output_type": "stream",
     "text": [
      "0.525578571429\n",
      "0.00222222222222\n"
     ]
    },
    {
     "data": {
      "image/png": "[encoded data removed]",
      "text/plain": [
       "<matplotlib.figure.Figure at 0x110e90a10>"
      ]
     },
     "metadata": {},
     "output_type": "display_data"
    }
   ],
   "source": [
    "alphas = np.linspace(0.0, 0.01, 100)\n",
    "scores = [get_score(alpha, y, y_hat_bow) for alpha in alphas]\n",
    "\n",
    "plot(alphas, scores);\n",
    "scatter(alphas[np.argmax(scores)], np.max(scores));\n",
    "print(np.max(scores))\n",
    "print(alphas[np.argmax(scores)])"
   ]
  },
  {
   "cell_type": "markdown",
   "metadata": {
    "deletable": true,
    "editable": true,
    "slideshow": {
     "slide_type": "slide"
    }
   },
   "source": [
    "## VW\n",
    "\n",
    "* Разработка Yahoo и потом Microsoft\n",
    "* Библиотека и __CLI__ программа, позволяющая строить линейные модели\n",
    "* Способна обрабатывать миллиарды объектов с сотнями тысяч признаков"
   ]
  },
  {
   "cell_type": "markdown",
   "metadata": {
    "deletable": true,
    "editable": true,
    "slideshow": {
     "slide_type": "subslide"
    }
   },
   "source": [
    "## Установка VW\n",
    "\n",
    "* Ubuntu — ```apt-get instal vowpal-wabbit```\n",
    "* Mac OS — ```port install vowpal_wabbit```\n",
    "* Windows — скачать установочник [тут](https://github.com/eisber/vowpal_wabbit/releases)\n",
    "\n",
    "[Варианты](https://github.com/JohnLangford/vowpal_wabbit/wiki/Download) установки из официальной wiki"
   ]
  },
  {
   "cell_type": "markdown",
   "metadata": {
    "deletable": true,
    "editable": true,
    "slideshow": {
     "slide_type": "subslide"
    }
   },
   "source": [
    "## Проверяем VW"
   ]
  },
  {
   "cell_type": "code",
   "execution_count": 21,
   "metadata": {
    "collapsed": false,
    "deletable": true,
    "editable": true,
    "slideshow": {
     "slide_type": "-"
    }
   },
   "outputs": [
    {
     "name": "stdout",
     "output_type": "stream",
     "text": [
      "Num weight bits = 18\r\n",
      "learning rate = 0.5\r\n",
      "initial_t = 0\r\n",
      "power_t = 0.5\r\n",
      "using no cache\r\n",
      "Reading datafile = \r\n",
      "num sources = 1\r\n",
      "\r\n",
      "\r\n",
      "VW options:\r\n",
      "  --random_seed arg                     seed random number generator\r\n",
      "  --ring_size arg                       size of example ring\r\n",
      "\r\n",
      "Update options:\r\n",
      "  -l [ --learning_rate ] arg            Set learning rate\r\n",
      "  --power_t arg                         t power value\r\n",
      "  --decay_learning_rate arg             Set Decay factor for learning_rate \r\n"
     ]
    }
   ],
   "source": [
    "!vw -h | head -n10"
   ]
  },
  {
   "cell_type": "markdown",
   "metadata": {
    "deletable": true,
    "editable": true,
    "slideshow": {
     "slide_type": "subslide"
    }
   },
   "source": [
    "## Формат ввода\n",
    "\n",
    "* Использует специальный формат входных данных\n",
    "* ```Label [weight] |Namespace Feature ... |Namespace ...```\n",
    "    * ```Label``` — метка класса для задачи классификации или действительное число для задачи регрессии\n",
    "    * ```weight``` — вес объекта, по умолчанию у всех 1\n",
    "    * ```Namespace``` — все признаки разбиты на области видимости, может использоваться для раздельного использования или создания квадратичных признаков между областями\n",
    "    * ```Feature``` — ```string[:value]``` или ```int[:value]``` строки будут хешированы, числа будут использоваться как индекс в векторе признаков. ```value``` по умолчанию равно $1$"
   ]
  },
  {
   "cell_type": "markdown",
   "metadata": {
    "deletable": true,
    "editable": true,
    "slideshow": {
     "slide_type": "subslide"
    }
   },
   "source": [
    "## Hashing trick\n",
    "\n",
    "Вводится функция $h$, с помощью которой получается индекс для записи значения в вектор признаков объекта.\n",
    "\n",
    "$$h : F \\rightarrow \\{0, \\dots, 2^b - 1\\}$$\n",
    "\n",
    "С помощью ```--b``` можно задавать размер области значений хеш-функции. Чем больше значение ```b```, тем меньше вероятность получить коллизии при хешировании признаков."
   ]
  },
  {
   "cell_type": "markdown",
   "metadata": {
    "deletable": true,
    "editable": true,
    "slideshow": {
     "slide_type": "subslide"
    }
   },
   "source": [
    "## Optimization\n",
    "\n",
    "Может использовать ```SGD``` или ```L-BFGS``` (квази-ньютоновский метод второго порядка, подробнее про работу [оптимизации](http://aria42.com/blog/2014/12/understanding-lbfgs))\n",
    "\n",
    "* ```SGD``` по умолчанию. Почти всегда необходимо несколько проходов по данным.\n",
    "* ```L-BFGS``` включается с помощью ```--bfgs```, работает гораздо медленнее и только для выборок небольшого размера\n",
    "* Количество проходов для ```SGD``` задаётся с помощью параметра ```--passes```\n",
    "\n"
   ]
  },
  {
   "cell_type": "markdown",
   "metadata": {
    "deletable": true,
    "editable": true,
    "slideshow": {
     "slide_type": "subslide"
    }
   },
   "source": [
    "## Параметры оптимизации\n",
    "\n",
    "Проходим по всем элементам обучающей выборки много раз, на каждом объекте обновляем веса:\n",
    "<br/>\n",
    "\n",
    "\n",
    "$$w_{t+1} = w_{t} + \\eta_t \\nabla_{w}\\ell(w_{t}, x_{t})$$\n",
    "$$\\eta_t = \\lambda d^k \\left( \\frac{t_0}{t_0 + t} \\right)^p$$\n",
    "\n",
    "Здесь $t$ — номер объекта при обучении, $k$ — номер эпохи.\n",
    "\n",
    "* $\\lambda$: ```-l```\n",
    "* $d$: ```--decay_learning_rate```\n",
    "* $t_0$: ```--initial_t```\n",
    "* $p$: ```--power_t```"
   ]
  },
  {
   "cell_type": "markdown",
   "metadata": {
    "deletable": true,
    "editable": true,
    "slideshow": {
     "slide_type": "subslide"
    }
   },
   "source": [
    "## Оценка качества\n",
    "\n",
    "Перед учётом очередного элемента в обучении на нём считается ошибка $e_i$. Далее эта ошибка усредняется со всеми предыдущими, получая текущую оценку качества.\n",
    "\n",
    "$$\\text{progressive error} = \\frac{e_1 + e_2 + ... + e_s}{s}$$\n",
    "\n",
    "$e_i$ — loss на объекте $x_i$ при обучении на объектах $\\{x_1 ... x_{i-1}\\}$\n",
    "\n",
    "\n",
    "Подробнее про использование [progressive validation](http://hunch.net/~jl/projects/prediction_bounds/progressive_validation/coltfinal.pdf)\n",
    "\n",
    "\n",
    "\n",
    "\n",
    "\n",
    "\n",
    "\n",
    "\n"
   ]
  },
  {
   "cell_type": "markdown",
   "metadata": {
    "deletable": true,
    "editable": true,
    "slideshow": {
     "slide_type": "subslide"
    }
   },
   "source": [
    "## Функции потерь\n",
    "\n",
    "Задаются через опцию ```--loss_function```\n",
    "\n",
    "<img src=\"files/images/loss.png\" width=\"800\">"
   ]
  },
  {
   "cell_type": "markdown",
   "metadata": {
    "deletable": true,
    "editable": true,
    "slideshow": {
     "slide_type": "subslide"
    }
   },
   "source": [
    "## Регуляризация \n",
    "\n",
    "Задаётся через два флага\n",
    "* ```--l1```\n",
    "* ```--l2```"
   ]
  },
  {
   "cell_type": "markdown",
   "metadata": {
    "slideshow": {
     "slide_type": "subslide"
    }
   },
   "source": [
    "## Квадратичные признаки\n",
    "\n",
    "* ```-q ab``` — создаёт квадратичные признаки, перемножая все признаки из областей видимости, названия которых начинаются на букву __a__ и на букву __b__\n",
    "* ```--ignore a``` — игнорирует все признаки из области видимости, название которой начинается на букву __a__\n",
    "\n"
   ]
  },
  {
   "cell_type": "markdown",
   "metadata": {
    "slideshow": {
     "slide_type": "subslide"
    }
   },
   "source": [
    "## Режим демона\n",
    "\n",
    "* ```--daemon``` — запускает __vw__ в режиме сервиса на порту, который можно задать с помощью ```--port```\n",
    "* Позволяет обучать модель и/или применять модель по сети"
   ]
  },
  {
   "cell_type": "markdown",
   "metadata": {
    "deletable": true,
    "editable": true,
    "slideshow": {
     "slide_type": "subslide"
    }
   },
   "source": [
    "## Примеры для бинарной классификации\n",
    "\n",
    "* Два класса с признаками A и B\n",
    "\n",
    "<pre>\n",
    "-1 | A:1 B:10\n",
    " 1 | A:-1 B:12\n",
    "</pre>\n",
    "\n",
    "* Можно использовать текст без обработки\n",
    "\n",
    "<pre>\n",
    "-1 | so i find myself porting a game that was originally written\n",
    " 1 | i ve been using tortoisesvn in a windows environment for quite some time\n",
    "</pre>"
   ]
  },
  {
   "cell_type": "markdown",
   "metadata": {
    "deletable": true,
    "editable": true,
    "slideshow": {
     "slide_type": "subslide"
    }
   },
   "source": [
    "## ```windows vs linux```\n",
    "\n",
    "Оставим только вопросы, в которых есть тег __windows__ или __linux__ и сконвертируем данные в формат подходящий для ```vw```."
   ]
  },
  {
   "cell_type": "code",
   "execution_count": 22,
   "metadata": {
    "collapsed": false,
    "deletable": true,
    "editable": true
   },
   "outputs": [
    {
     "name": "stdout",
     "output_type": "stream",
     "text": [
      "-1 | as the title says does any unix like system a\r\n",
      "-1 | i want to link ln s all files that are in mnt\r\n",
      "1 | in windows xp 2003 there is one entry in the r\r\n",
      "-1 | how could i forward the x window output from \r\n",
      "-1 | as the title says what s your ide of choice t\r\n"
     ]
    }
   ],
   "source": [
    "texts = pd.read_csv('windows_vs_linux.10k.tsv', sep='\\t', header=None)\n",
    "texts[1].replace({0: '-1 ', 1: '1 '}, inplace=True)\n",
    "\n",
    "train_texts, test_texts = train_test_split(texts)\n",
    "\n",
    "\n",
    "train_texts[[1, 0]].to_csv('win_vs_lin.train.vw', sep='|', header=None, index=False)\n",
    "test_texts[[1, 0]].to_csv('win_vs_lin.test.vw', sep='|', header=None, index=False)\n",
    "\n",
    "!head -n 5 win_vs_lin.train.vw | cut -c 1-50"
   ]
  },
  {
   "cell_type": "markdown",
   "metadata": {
    "deletable": true,
    "editable": true,
    "slideshow": {
     "slide_type": "subslide"
    }
   },
   "source": [
    "## Обучение"
   ]
  },
  {
   "cell_type": "code",
   "execution_count": 184,
   "metadata": {
    "collapsed": false,
    "deletable": true,
    "editable": true,
    "slideshow": {
     "slide_type": "-"
    }
   },
   "outputs": [],
   "source": [
    "!vw -d win_vs_lin.train.vw -f model.vw --loss_function logistic  --passes 100 -c -k 2> train.log"
   ]
  },
  {
   "cell_type": "markdown",
   "metadata": {},
   "source": [
    "* ```-d``` — откуда брать данны для обучения\n",
    "* ```-f``` — куда сохранять модель\n",
    "* ```--passes``` — максимальное количество проходов по выборке\n",
    "* ```-c``` — создавать файл с кешем, необходимо указывать, если используется ```--passes```\n",
    "* ```-k``` — перед запуском очищать кеш"
   ]
  },
  {
   "cell_type": "markdown",
   "metadata": {
    "slideshow": {
     "slide_type": "subslide"
    }
   },
   "source": [
    "## Лог обучения"
   ]
  },
  {
   "cell_type": "code",
   "execution_count": 186,
   "metadata": {
    "collapsed": false
   },
   "outputs": [
    {
     "name": "stdout",
     "output_type": "stream",
     "text": [
      "final_regressor = model.vw\r\n",
      "Num weight bits = 18\r\n",
      "learning rate = 0.5\r\n",
      "initial_t = 0\r\n",
      "power_t = 0.5\r\n",
      "decay_learning_rate = 1\r\n",
      "creating cache_file = win_vs_lin.train.vw.cache\r\n",
      "Reading datafile = win_vs_lin.train.vw\r\n",
      "num sources = 1\r\n",
      "average  since         example        example  current  current  current\r\n",
      "loss     last          counter         weight    label  predict features\r\n",
      "0.693147 0.693147            1            1.0  -1.0000   0.0000      101\r\n",
      "0.632252 0.571357            2            2.0  -1.0000  -0.2605       28\r\n",
      "0.652016 0.671781            4            4.0  -1.0000  -1.6879      135\r\n",
      "0.882366 1.112717            8            8.0   1.0000   0.0338       19\r\n",
      "0.848898 0.815429           16           16.0  -1.0000  -0.5651       69\r\n",
      "0.886803 0.924707           32           32.0   1.0000  -0.3310      161\r\n",
      "0.793671 0.700539           64           64.0   1.0000   1.3198      197\r\n",
      "0.721078 0.648484          128          128.0   1.0000  -0.5368       16\r\n",
      "0.634201 0.547324          256          256.0   1.0000   2.3615      208\r\n"
     ]
    }
   ],
   "source": [
    "!head -n20 train.log"
   ]
  },
  {
   "cell_type": "markdown",
   "metadata": {
    "deletable": true,
    "editable": true,
    "slideshow": {
     "slide_type": "subslide"
    }
   },
   "source": [
    "## Применение"
   ]
  },
  {
   "cell_type": "code",
   "execution_count": 187,
   "metadata": {
    "collapsed": false,
    "deletable": true,
    "editable": true
   },
   "outputs": [
    {
     "name": "stdout",
     "output_type": "stream",
     "text": [
      "0.072026\r\n",
      "2.981259\r\n",
      "2.415733\r\n"
     ]
    }
   ],
   "source": [
    "!vw -d win_vs_lin.test.vw -i model.vw -t -p output.csv --quiet\n",
    "!head -n3 output.csv"
   ]
  },
  {
   "cell_type": "markdown",
   "metadata": {},
   "source": [
    "* ```-i``` — путь до готовой модели\n",
    "* ```-t``` — не обучаться, только вернуть предсказания\n",
    "* ```-p``` — путь до файла для записи предсказаний\n",
    "* ```--quite``` — не выводить никакую информацию в консоль"
   ]
  },
  {
   "cell_type": "markdown",
   "metadata": {
    "deletable": true,
    "editable": true,
    "slideshow": {
     "slide_type": "subslide"
    }
   },
   "source": [
    "## Результат\n",
    "\n",
    "Загрузим ответы и померяем $AUC$"
   ]
  },
  {
   "cell_type": "code",
   "execution_count": 188,
   "metadata": {
    "collapsed": false,
    "deletable": true,
    "editable": true,
    "slideshow": {
     "slide_type": "-"
    }
   },
   "outputs": [
    {
     "data": {
      "text/plain": [
       "0.96704167103343197"
      ]
     },
     "execution_count": 188,
     "metadata": {},
     "output_type": "execute_result"
    }
   ],
   "source": [
    "y_hat = pd.read_csv('output.csv', header=None)\n",
    "roc_auc_score(test_texts[1].replace({'-1 ': 0, '1 ': 1}), y_hat[0])"
   ]
  },
  {
   "cell_type": "markdown",
   "metadata": {
    "deletable": true,
    "editable": true,
    "slideshow": {
     "slide_type": "subslide"
    }
   },
   "source": [
    "## Многоклассовая классификация\n",
    "\n",
    "Включается с помощью флага ```--oaa n```, где $n$ число классов.\n",
    "\n",
    "Формат для меток — ```label[:weight],label[:weight],...```"
   ]
  },
  {
   "cell_type": "code",
   "execution_count": 172,
   "metadata": {
    "collapsed": false,
    "deletable": true,
    "editable": true
   },
   "outputs": [
    {
     "name": "stdout",
     "output_type": "stream",
     "text": [
      "4 | i want to use a track bar to change a form s o\r\n",
      "7 | i have an absolutely positioned div containing\r\n",
      "1,4 | given a datetime representing a person s bir\r\n",
      "4 | given a specific datetime value how do i displ\r\n",
      "7,9 | is there any standard way for a web server t\r\n"
     ]
    }
   ],
   "source": [
    "texts = pd.read_csv('multi_tag.10k.tsv', header=None, sep='\\t')\n",
    "texts.columns = ['text', 'tags']\n",
    "classes = np.arange(21)\n",
    "texts['tags'] = map(lambda row: ','.join(map(str, 1 + classes[row.astype('bool')])) + ' ', y)\n",
    "texts[['tags', 'text']].to_csv('multi_tag.vw' , sep='|', header=None, index=False)\n",
    "\n",
    "!head -n 5 multi_tag.vw | cut -c 1-50"
   ]
  },
  {
   "cell_type": "markdown",
   "metadata": {
    "deletable": true,
    "editable": true,
    "slideshow": {
     "slide_type": "subslide"
    }
   },
   "source": [
    "## Обучение"
   ]
  },
  {
   "cell_type": "code",
   "execution_count": 173,
   "metadata": {
    "collapsed": false,
    "deletable": true,
    "editable": true
   },
   "outputs": [],
   "source": [
    "!vw -d multi_tag.vw  -f model.vw --loss_function logistic --oaa 21 --quiet --passes 100 -c -k"
   ]
  },
  {
   "cell_type": "markdown",
   "metadata": {
    "deletable": true,
    "editable": true,
    "slideshow": {
     "slide_type": "subslide"
    }
   },
   "source": [
    "## Предсказание\n",
    "\n",
    "Для простоты получим ответы на ```train```"
   ]
  },
  {
   "cell_type": "code",
   "execution_count": 177,
   "metadata": {
    "collapsed": false,
    "deletable": true,
    "editable": true
   },
   "outputs": [
    {
     "name": "stdout",
     "output_type": "stream",
     "text": [
      "1:-2.48879 2:-2.2027 3:-3.81814 4:1.25513 5:-3.72094 6:-6.52962 7:-5.75792 8:-4.49483 9:-3.05773 10:-6.86743 11:-6.08145 12:-1.01415 13:-6.79665 14:-4.62895 15:-4.18816 16:-3.87795 17:-5.31658 18:-4.34753 19:-2.65281 20:-6.11897 21:-4.71674\r\n",
      "1:-5.77629 2:-4.70643 3:-8.05376 4:-2.97062 5:-8.84354 6:-10.7255 7:2.6422 8:-5.72566 9:-3.39589 10:-8.78461 11:-7.98634 12:-3.78309 13:-6.47153 14:-9.07742 15:-10.1064 16:-9.9607 17:-10.6715 18:-11.5456 19:-9.8694 20:-8.54887 21:-8.8077\r\n",
      "1:-1.92299 2:-3.58227 3:-3.03307 4:-2.77937 5:-4.40152 6:-3.35077 7:-3.73742 8:-4.15759 9:-3.40149 10:-2.5327 11:-3.96967 12:-0.673776 13:-3.39927 14:-2.78582 15:-4.01405 16:-2.84286 17:-4.04175 18:-4.31216 19:-4.14539 20:-3.77989 21:-3.65737\r\n"
     ]
    }
   ],
   "source": [
    "!vw -d multi_tag.vw -i model.vw -r output.csv --loss_function logistic --quiet \n",
    "!head -n3 output.csv"
   ]
  },
  {
   "cell_type": "markdown",
   "metadata": {},
   "source": [
    "## Подробнее про VW\n",
    "\n",
    "* [Вики](https://github.com/JohnLangford/vowpal_wabbit/wiki/)\n",
    "* Раздел [Tutorial](https://github.com/JohnLangford/vowpal_wabbit/wiki/Tutorial)  на вики\n",
    "* [Pdf](https://github.com/JohnLangford/vowpal_wabbit/wiki/v7.0_tutorial.pdf) с описанием большинства возможностей VW"
   ]
  }
 ],
 "metadata": {
  "celltoolbar": "Slideshow",
  "kernelspec": {
   "display_name": "Python 2",
   "language": "python",
   "name": "python2"
  },
  "language_info": {
   "codemirror_mode": {
    "name": "ipython",
    "version": 2
   },
   "file_extension": ".py",
   "mimetype": "text/x-python",
   "name": "python",
   "nbconvert_exporter": "python",
   "pygments_lexer": "ipython2",
   "version": "2.7.13"
  }
 },
 "nbformat": 4,
 "nbformat_minor": 2
}
